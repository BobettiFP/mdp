{
 "cells": [
  {
   "cell_type": "code",
   "execution_count": 1,
   "metadata": {},
   "outputs": [
    {
     "name": "stdout",
     "output_type": "stream",
     "text": [
      "human_normal unique rewards (first 10): [-0.19121467, -0.13688411, -0.1, -0.0281232, 0.03663203, 0.049983174, 0.055648465, 0.05918182, 0.059834126, 0.067668036]\n",
      "llm_normal unique rewards (first 10): [-0.37655893, -0.3322105, -0.32293448, -0.32204288, -0.31196925, -0.2994129, -0.29394802, -0.29089093, -0.28099108, -0.27558488]\n"
     ]
    }
   ],
   "source": [
    "import pandas as pd\n",
    "for env in [\"human_normal\",\"llm_normal\"]:\n",
    "    df = pd.read_csv(f\"logs/{env}.csv\")\n",
    "    print(env, \"unique rewards (first 10):\", sorted(df.reward.unique())[:10])\n"
   ]
  }
 ],
 "metadata": {
  "kernelspec": {
   "display_name": "base",
   "language": "python",
   "name": "python3"
  },
  "language_info": {
   "codemirror_mode": {
    "name": "ipython",
    "version": 3
   },
   "file_extension": ".py",
   "mimetype": "text/x-python",
   "name": "python",
   "nbconvert_exporter": "python",
   "pygments_lexer": "ipython3",
   "version": "3.11.7"
  }
 },
 "nbformat": 4,
 "nbformat_minor": 2
}
