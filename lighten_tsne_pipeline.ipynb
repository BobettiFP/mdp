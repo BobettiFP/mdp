{
 "cells": [
  {
   "cell_type": "code",
   "execution_count": 1,
   "metadata": {},
   "outputs": [
    {
     "name": "stderr",
     "output_type": "stream",
     "text": [
      "/Users/hyegang/Desktop/졸업논문/.venv/lib/python3.13/site-packages/tqdm/auto.py:21: TqdmWarning: IProgress not found. Please update jupyter and ipywidgets. See https://ipywidgets.readthedocs.io/en/stable/user_install.html\n",
      "  from .autonotebook import tqdm as notebook_tqdm\n"
     ]
    }
   ],
   "source": [
    "import json\n",
    "import pandas as pd\n",
    "from sentence_transformers import SentenceTransformer\n",
    "from sklearn.manifold import TSNE\n",
    "from sklearn.cluster import AgglomerativeClustering\n",
    "import plotly.express as px\n",
    "import numpy as np"
   ]
  },
  {
   "cell_type": "code",
   "execution_count": 9,
   "metadata": {},
   "outputs": [],
   "source": [
    "#load data\n",
    "filepath = \"results_parallel.json\"\n",
    "with open(filepath) as f:\n",
    "    data = json.load(f)\n"
   ]
  },
  {
   "cell_type": "code",
   "execution_count": 11,
   "metadata": {},
   "outputs": [
    {
     "data": {
      "text/plain": [
       "512"
      ]
     },
     "execution_count": 11,
     "metadata": {},
     "output_type": "execute_result"
    }
   ],
   "source": [
    "len(data)"
   ]
  },
  {
   "cell_type": "code",
   "execution_count": 13,
   "metadata": {},
   "outputs": [
    {
     "ename": "ValueError",
     "evalue": "too many values to unpack (expected 2)",
     "output_type": "error",
     "traceback": [
      "\u001b[31m---------------------------------------------------------------------------\u001b[39m",
      "\u001b[31mValueError\u001b[39m                                Traceback (most recent call last)",
      "\u001b[36mCell\u001b[39m\u001b[36m \u001b[39m\u001b[32mIn[13]\u001b[39m\u001b[32m, line 66\u001b[39m\n\u001b[32m     63\u001b[39m     \u001b[38;5;28;01mreturn\u001b[39;00m all_sequences\n\u001b[32m     65\u001b[39m \u001b[38;5;66;03m# Extract and print sequences\u001b[39;00m\n\u001b[32m---> \u001b[39m\u001b[32m66\u001b[39m sequences = \u001b[43mextract_state_action_sequences\u001b[49m\u001b[43m(\u001b[49m\u001b[43mdata\u001b[49m\u001b[43m)\u001b[49m\n\u001b[32m     67\u001b[39m \u001b[38;5;28;01mfor\u001b[39;00m i, seq \u001b[38;5;129;01min\u001b[39;00m \u001b[38;5;28menumerate\u001b[39m(sequences):\n\u001b[32m     68\u001b[39m     \u001b[38;5;28;01mif\u001b[39;00m seq:  \u001b[38;5;66;03m# Only print non-empty sequences\u001b[39;00m\n",
      "\u001b[36mCell\u001b[39m\u001b[36m \u001b[39m\u001b[32mIn[13]\u001b[39m\u001b[32m, line 42\u001b[39m, in \u001b[36mextract_state_action_sequences\u001b[39m\u001b[34m(data)\u001b[39m\n\u001b[32m     39\u001b[39m     \u001b[38;5;28;01mif\u001b[39;00m \u001b[38;5;129;01mnot\u001b[39;00m domain \u001b[38;5;129;01mor\u001b[39;00m domain == \u001b[33m'\u001b[39m\u001b[33mcontext\u001b[39m\u001b[33m'\u001b[39m:  \u001b[38;5;66;03m# Skip context domain\u001b[39;00m\n\u001b[32m     40\u001b[39m         \u001b[38;5;28;01mcontinue\u001b[39;00m\n\u001b[32m---> \u001b[39m\u001b[32m42\u001b[39m     \u001b[38;5;28;01mfor\u001b[39;00m slot_name, slot_value \u001b[38;5;129;01min\u001b[39;00m domain_data.get(\u001b[33m'\u001b[39m\u001b[33mslots\u001b[39m\u001b[33m'\u001b[39m, []):\n\u001b[32m     43\u001b[39m         domain_slots[\u001b[33mf\u001b[39m\u001b[33m\"\u001b[39m\u001b[38;5;132;01m{\u001b[39;00mdomain\u001b[38;5;132;01m}\u001b[39;00m\u001b[33m-\u001b[39m\u001b[38;5;132;01m{\u001b[39;00mslot_name\u001b[38;5;132;01m}\u001b[39;00m\u001b[33m\"\u001b[39m] = slot_value\n\u001b[32m     45\u001b[39m \u001b[38;5;28;01mif\u001b[39;00m domain_slots:\n\u001b[32m     46\u001b[39m     \u001b[38;5;66;03m# Format the sequence part\u001b[39;00m\n",
      "\u001b[31mValueError\u001b[39m: too many values to unpack (expected 2)"
     ]
    }
   ],
   "source": [
    "import json\n",
    "\n",
    "# Load data\n",
    "filepath = \"results_parallel.json\"\n",
    "with open(filepath) as f:\n",
    "    data = json.load(f)\n",
    "\n",
    "def extract_state_action_sequences(data):\n",
    "    all_sequences = []\n",
    "    \n",
    "    # Process each dialogue\n",
    "    for dialogue_id, dialogue in data.items():\n",
    "        # Get all turns sorted by index\n",
    "        turns = []\n",
    "        for key in dialogue:\n",
    "            if key.startswith('turn_'):\n",
    "                turn_idx = int(key.split('_')[1])\n",
    "                turns.append((turn_idx, dialogue[key]))\n",
    "        turns.sort()\n",
    "        \n",
    "        # Track state changes across turns\n",
    "        sequence_parts = []\n",
    "        \n",
    "        for i, (turn_idx, turn) in enumerate(turns):\n",
    "            transitions = turn.get('transitions', {})\n",
    "            state_1 = transitions.get('state_1', [])\n",
    "            action = transitions.get('action', 'NONE')\n",
    "            state_2 = transitions.get('state_2', [])\n",
    "            \n",
    "            # Skip if no state_2 or it's the same as previous\n",
    "            if not state_2:\n",
    "                continue\n",
    "                \n",
    "            # Process all domains in state_2\n",
    "            domain_slots = {}\n",
    "            \n",
    "            for domain_data in state_2:\n",
    "                domain = domain_data.get('domain')\n",
    "                if not domain or domain == 'context':  # Skip context domain\n",
    "                    continue\n",
    "                    \n",
    "                for slot_name, slot_value in domain_data.get('slots', []):\n",
    "                    domain_slots[f\"{domain}-{slot_name}\"] = slot_value\n",
    "            \n",
    "            if domain_slots:\n",
    "                # Format the sequence part\n",
    "                slot_parts = []\n",
    "                for slot_key, slot_value in domain_slots.items():\n",
    "                    domain = slot_key.split('-')[0]\n",
    "                    action_prefix = f\"FIND_{domain.upper()}\" if action in ['Request', 'Inform'] else \"NONE\"\n",
    "                    slot_parts.append(f\"{action_prefix}({slot_key}={slot_value})\")\n",
    "                \n",
    "                if slot_parts:\n",
    "                    sequence_part = \" + \".join(slot_parts)\n",
    "                    \n",
    "                    # Add to sequence if different from previous\n",
    "                    if not sequence_parts or sequence_parts[-1] != sequence_part:\n",
    "                        sequence_parts.append(sequence_part)\n",
    "        \n",
    "        if sequence_parts:\n",
    "            all_sequences.append(\" → \".join(sequence_parts))\n",
    "    \n",
    "    return all_sequences\n",
    "\n",
    "# Extract and print sequences\n",
    "sequences = extract_state_action_sequences(data)\n",
    "for i, seq in enumerate(sequences):\n",
    "    if seq:  # Only print non-empty sequences\n",
    "        print(f\"Dialogue {i+1}:\")\n",
    "        print(seq)\n",
    "        print()\n",
    "\n",
    "# Count sequences\n",
    "print(f\"Total sequences extracted: {len([s for s in sequences if s])}\")"
   ]
  },
  {
   "cell_type": "code",
   "execution_count": 8,
   "metadata": {},
   "outputs": [
    {
     "name": "stdout",
     "output_type": "stream",
     "text": [
      "Dialogue 1:\n",
      "FIND_RESTAURANT(restaurant-area=center) + FIND_RESTAURANT(restaurant-price=expensive) → NONE(restaurant-area=center) + NONE(restaurant-price=expensive) → FIND_RESTAURANT(restaurant-area=center) + FIND_RESTAURANT(restaurant-food=any) + FIND_RESTAURANT(restaurant-price=expensive) → FIND_RESTAURANT(restaurant-area=center) + FIND_RESTAURANT(restaurant-food=African) + FIND_RESTAURANT(restaurant-name=Bedouin) + FIND_RESTAURANT(restaurant-price=expensive) → FIND_HOTEL(hotel-price=expensive) + FIND_RESTAURANT(restaurant-area=center) + FIND_RESTAURANT(restaurant-food=African) + FIND_RESTAURANT(restaurant-name=Bedouin) + FIND_RESTAURANT(restaurant-price=expensive) → FIND_HOTEL(hotel-area=center) + FIND_HOTEL(hotel-name=University Arms Hotel) + FIND_HOTEL(hotel-price=expensive) + FIND_RESTAURANT(restaurant-area=center) + FIND_RESTAURANT(restaurant-food=African) + FIND_RESTAURANT(restaurant-name=Bedouin) + FIND_RESTAURANT(restaurant-phone=01223367660) + FIND_RESTAURANT(restaurant-price=expensive) → FIND_HOTEL(hotel-area=center) + FIND_HOTEL(hotel-name=University Arms Hotel) + FIND_HOTEL(hotel-nights=2) + FIND_HOTEL(hotel-people=2) + FIND_HOTEL(hotel-price=expensive) + FIND_HOTEL(hotel-start_day=saturday) + FIND_RESTAURANT(restaurant-area=center) + FIND_RESTAURANT(restaurant-food=African) + FIND_RESTAURANT(restaurant-name=Bedouin) + FIND_RESTAURANT(restaurant-phone=01223367660) + FIND_RESTAURANT(restaurant-price=expensive) → FIND_HOTEL(hotel-area=center) + FIND_HOTEL(hotel-booking_status=successful) + FIND_HOTEL(hotel-name=University Arms Hotel) + FIND_HOTEL(hotel-nights=2) + FIND_HOTEL(hotel-people=2) + FIND_HOTEL(hotel-price=expensive) + FIND_HOTEL(hotel-reference_number=FRGZWQL2) + FIND_HOTEL(hotel-start_day=saturday) + FIND_RESTAURANT(restaurant-area=center) + FIND_RESTAURANT(restaurant-food=African) + FIND_RESTAURANT(restaurant-name=Bedouin) + FIND_RESTAURANT(restaurant-phone=01223367660) + FIND_RESTAURANT(restaurant-price=expensive) → NONE(hotel-area=center) + NONE(hotel-booking_status=successful) + NONE(hotel-name=University Arms Hotel) + NONE(hotel-nights=2) + NONE(hotel-people=2) + NONE(hotel-price=expensive) + NONE(hotel-reference_number=FRGZWQL2) + NONE(hotel-start_day=saturday) + NONE(restaurant-area=center) + NONE(restaurant-food=African) + NONE(restaurant-name=Bedouin) + NONE(restaurant-phone=01223367660) + NONE(restaurant-price=expensive)\n",
      "\n",
      "Dialogue 2:\n",
      "FIND_HOTEL(hotel-internet=free) + FIND_HOTEL(hotel-parking=free) → NONE(hotel-internet=free) + NONE(hotel-parking=free) → FIND_HOTEL(hotel-area=south) + FIND_HOTEL(hotel-internet=free) + FIND_HOTEL(hotel-parking=free) → FIND_HOTEL(hotel-area=south) + FIND_HOTEL(hotel-internet=free) + FIND_HOTEL(hotel-parking=free) + FIND_HOTEL(hotel-price_preference=no) → NONE(hotel-area=south) + NONE(hotel-internet=free) + NONE(hotel-name=aylesbray lodge guest house) + NONE(hotel-parking=free) + NONE(hotel-price_preference=no) → FIND_HOTEL(hotel-area=south) + FIND_HOTEL(hotel-internet=free) + FIND_HOTEL(hotel-name=aylesbray lodge guest house) + FIND_HOTEL(hotel-nights=4) + FIND_HOTEL(hotel-parking=free) + FIND_HOTEL(hotel-people=4) + FIND_HOTEL(hotel-price_preference=no) + FIND_HOTEL(hotel-start_day=tuesday) → FIND_HOTEL(hotel-area=south) + FIND_HOTEL(hotel-booking_status=unsuccessful) + FIND_HOTEL(hotel-internet=free) + FIND_HOTEL(hotel-name=aylesbray lodge guest house) + FIND_HOTEL(hotel-nights=4) + FIND_HOTEL(hotel-parking=free) + FIND_HOTEL(hotel-people=4) + FIND_HOTEL(hotel-price_preference=no) + FIND_HOTEL(hotel-start_day=tuesday) → FIND_HOTEL(hotel-area=south) + FIND_HOTEL(hotel-booking_status=unsuccessful) + FIND_HOTEL(hotel-internet=free) + FIND_HOTEL(hotel-name=aylesbray lodge guest house) + FIND_HOTEL(hotel-nights=3) + FIND_HOTEL(hotel-parking=free) + FIND_HOTEL(hotel-people=4) + FIND_HOTEL(hotel-price_preference=no) + FIND_HOTEL(hotel-start_day=tuesday) → FIND_HOTEL(hotel-area=south) + FIND_HOTEL(hotel-booking_status=successful) + FIND_HOTEL(hotel-internet=free) + FIND_HOTEL(hotel-name=aylesbray lodge guest house) + FIND_HOTEL(hotel-nights=3) + FIND_HOTEL(hotel-parking=free) + FIND_HOTEL(hotel-people=4) + FIND_HOTEL(hotel-price_preference=no) + FIND_HOTEL(hotel-reference_number=84ESP6F5) + FIND_HOTEL(hotel-start_day=tuesday) → NONE(hotel-area=south) + NONE(hotel-booking_status=successful) + NONE(hotel-internet=free) + NONE(hotel-name=aylesbray lodge guest house) + NONE(hotel-nights=3) + NONE(hotel-parking=free) + NONE(hotel-people=4) + NONE(hotel-price_preference=no) + NONE(hotel-reference_number=84ESP6F5) + NONE(hotel-start_day=tuesday)\n",
      "\n",
      "Dialogue 3:\n",
      "FIND_HOTEL(hotel-nights=3) + FIND_HOTEL(hotel-people=7) + FIND_HOTEL(hotel-start_day=Tuesday) → FIND_HOTEL(hotel-booking_status=confirmed) + FIND_HOTEL(hotel-nights=3) + FIND_HOTEL(hotel-people=7) + FIND_HOTEL(hotel-reference_number=CYJDAR7R) + FIND_HOTEL(hotel-start_day=Tuesday) → FIND_HOTEL(hotel-booking_status=confirmed) + FIND_HOTEL(hotel-nights=3) + FIND_HOTEL(hotel-people=7) + FIND_HOTEL(hotel-reference_number=CYJDAR7R) + FIND_HOTEL(hotel-start_day=Tuesday) + FIND_RESTAURANT(restaurant-area=west) + FIND_RESTAURANT(restaurant-price=expensive) → FIND_HOTEL(hotel-booking_status=confirmed) + FIND_HOTEL(hotel-nights=3) + FIND_HOTEL(hotel-people=7) + FIND_HOTEL(hotel-reference_number=CYJDAR7R) + FIND_HOTEL(hotel-start_day=Tuesday) + FIND_RESTAURANT(restaurant-area=west) + FIND_RESTAURANT(restaurant-food_type=no preference) + FIND_RESTAURANT(restaurant-price=expensive) → FIND_HOTEL(hotel-booking_status=confirmed) + FIND_HOTEL(hotel-nights=3) + FIND_HOTEL(hotel-people=7) + FIND_HOTEL(hotel-reference_number=CYJDAR7R) + FIND_HOTEL(hotel-start_day=Tuesday) + FIND_RESTAURANT(restaurant-area=west) + FIND_RESTAURANT(restaurant-food_type=no preference) + FIND_RESTAURANT(restaurant-name=Graffiti) + FIND_RESTAURANT(restaurant-phone=01223277977) + FIND_RESTAURANT(restaurant-postcode=cb30lx) + FIND_RESTAURANT(restaurant-price=expensive)\n",
      "\n",
      "Dialogue 4:\n",
      "FIND_HOTEL(hotel-name=alyesbray lodge guest house) → FIND_HOTEL(hotel-name=alyesbray lodge guest house) + FIND_HOTEL(hotel-stay_duration=5) + FIND_HOTEL(hotel-stay_start=Sunday) → FIND_HOTEL(hotel-name=alyesbray lodge guest house) + FIND_HOTEL(hotel-number_of_people=8) + FIND_HOTEL(hotel-stay_duration=5) + FIND_HOTEL(hotel-stay_start=Sunday) → FIND_HOTEL(hotel-booking_reference=4UFN3SWC) + FIND_HOTEL(hotel-name=alyesbray lodge guest house) + FIND_HOTEL(hotel-number_of_people=8) + FIND_HOTEL(hotel-stay_duration=5) + FIND_HOTEL(hotel-stay_start=Sunday) → FIND_HOTEL(hotel-booking_reference=4UFN3SWC) + FIND_HOTEL(hotel-name=alyesbray lodge guest house) + FIND_HOTEL(hotel-number_of_people=8) + FIND_HOTEL(hotel-stay_duration=5) + FIND_HOTEL(hotel-stay_start=Sunday) + FIND_RESTAURANT(restaurant-name=Don Pasquale Pizzeria) → FIND_HOTEL(hotel-booking_reference=4UFN3SWC) + FIND_HOTEL(hotel-name=alyesbray lodge guest house) + FIND_HOTEL(hotel-number_of_people=8) + FIND_HOTEL(hotel-stay_duration=5) + FIND_HOTEL(hotel-stay_start=Sunday) + FIND_RESTAURANT(restaurant-location=centre) + FIND_RESTAURANT(restaurant-name=Don Pasquale Pizzeria) → FIND_HOTEL(hotel-booking_reference=4UFN3SWC) + FIND_HOTEL(hotel-name=alyesbray lodge guest house) + FIND_HOTEL(hotel-number_of_people=8) + FIND_HOTEL(hotel-stay_duration=5) + FIND_HOTEL(hotel-stay_start=Sunday) + FIND_RESTAURANT(restaurant-location=centre) + FIND_RESTAURANT(restaurant-name=Don Pasquale Pizzeria) + FIND_RESTAURANT(restaurant-number_of_people=8) + FIND_RESTAURANT(restaurant-reservation_date=same day) + FIND_RESTAURANT(restaurant-reservation_time=19:00) → FIND_HOTEL(hotel-booking_reference=4UFN3SWC) + FIND_HOTEL(hotel-name=alyesbray lodge guest house) + FIND_HOTEL(hotel-number_of_people=8) + FIND_HOTEL(hotel-stay_duration=5) + FIND_HOTEL(hotel-stay_start=Sunday) + FIND_RESTAURANT(restaurant-booking_reference=GVM0PAM2) + FIND_RESTAURANT(restaurant-location=centre) + FIND_RESTAURANT(restaurant-name=Don Pasquale Pizzeria) + FIND_RESTAURANT(restaurant-number_of_people=8) + FIND_RESTAURANT(restaurant-reservation_date=same day) + FIND_RESTAURANT(restaurant-reservation_duration=15 minutes) + FIND_RESTAURANT(restaurant-reservation_time=19:00) → FIND_HOTEL(hotel-booking_reference=4UFN3SWC) + FIND_HOTEL(hotel-name=alyesbray lodge guest house) + FIND_HOTEL(hotel-number_of_people=8) + FIND_HOTEL(hotel-stay_duration=5) + FIND_HOTEL(hotel-stay_start=Sunday) + FIND_RESTAURANT(restaurant-booking_reference=GVM0PAM2) + FIND_RESTAURANT(restaurant-location=centre) + FIND_RESTAURANT(restaurant-name=Don Pasquale Pizzeria) + FIND_RESTAURANT(restaurant-number_of_people=8) + FIND_RESTAURANT(restaurant-reservation_date=same day) + FIND_RESTAURANT(restaurant-reservation_duration=15 minutes) + FIND_RESTAURANT(restaurant-reservation_time=19:00) + FIND_TAXI(taxi-car_type=Red Skoda) + FIND_TAXI(taxi-contact_number=07404031593)\n",
      "\n",
      "Dialogue 5:\n",
      "FIND_TRAIN(train-day=Tuesday) + FIND_TRAIN(train-departure=Kings Lynn) → FIND_TRAIN(train-day=Tuesday) + FIND_TRAIN(train-departure=Kings Lynn) + FIND_TRAIN(train-departure_time=after 9:30) → FIND_TRAIN(train-day=Tuesday) + FIND_TRAIN(train-departure=Kings Lynn) + FIND_TRAIN(train-departure_time=after 9:30) + FIND_TRAIN(train-destination=Cambridge) → NONE(train-day=Tuesday) + NONE(train-departure=Kings Lynn) + NONE(train-departure_time=10:11) + NONE(train-destination=Cambridge) → FIND_TRAIN(train-day=Tuesday) + FIND_TRAIN(train-departure=Kings Lynn) + FIND_TRAIN(train-departure_time=10:11) + FIND_TRAIN(train-destination=Cambridge) + FIND_TRAIN(train-passengers=2) → FIND_TRAIN(train-booking_reference=HXG3N56O) + FIND_TRAIN(train-day=Tuesday) + FIND_TRAIN(train-departure=Kings Lynn) + FIND_TRAIN(train-departure_time=10:11) + FIND_TRAIN(train-destination=Cambridge) + FIND_TRAIN(train-passengers=2) + FIND_TRAIN(train-total_fee=19.6 GBP) → NONE(train-booking_reference=HXG3N56O) + NONE(train-day=Tuesday) + NONE(train-departure=Kings Lynn) + NONE(train-departure_time=10:11) + NONE(train-destination=Cambridge) + NONE(train-passengers=2) + NONE(train-total_fee=19.6 GBP) → FIND_TRAIN(train-booking_reference=HXG3N56O) + FIND_TRAIN(train-booking_status=successful) + FIND_TRAIN(train-day=Tuesday) + FIND_TRAIN(train-departure=Kings Lynn) + FIND_TRAIN(train-departure_time=10:11) + FIND_TRAIN(train-destination=Cambridge) + FIND_TRAIN(train-passengers=2) + FIND_TRAIN(train-total_fee=19.6 GBP)\n",
      "\n",
      "Dialogue 6:\n",
      "FIND_RESTAURANT(restaurant-price=cheap) + FIND_RESTAURANT(restaurant-type=Chinese) → FIND_RESTAURANT(restaurant-name=lucky star) + FIND_RESTAURANT(restaurant-price=cheap) + FIND_RESTAURANT(restaurant-type=Chinese) → FIND_RESTAURANT(restaurant-name=lucky star) + FIND_RESTAURANT(restaurant-price=cheap) + FIND_RESTAURANT(restaurant-reservation=1 person, 20:00, Saturday) + FIND_RESTAURANT(restaurant-type=Chinese) → FIND_RESTAURANT(restaurant-name=lucky star) + FIND_RESTAURANT(restaurant-price=cheap) + FIND_RESTAURANT(restaurant-reservation=1 person, 20:00, Saturday) + FIND_RESTAURANT(restaurant-reservation_reference=FDLFKTZM) + FIND_RESTAURANT(restaurant-reservation_status=successful) + FIND_RESTAURANT(restaurant-type=Chinese) → NONE(restaurant-name=lucky star) + NONE(restaurant-price=cheap) + NONE(restaurant-reservation=1 person, 20:00, Saturday) + NONE(restaurant-reservation_reference=FDLFKTZM) + NONE(restaurant-reservation_status=successful) + NONE(restaurant-type=Chinese)\n",
      "\n",
      "Dialogue 7:\n",
      "FIND_TRAIN(train-departure=cambridge) + FIND_TRAIN(train-destination=stansted airport) → FIND_TRAIN(train-day=Saturday) + FIND_TRAIN(train-departure=cambridge) + FIND_TRAIN(train-departure_time=after 20:00) + FIND_TRAIN(train-destination=stansted airport) → FIND_TRAIN(train-arrival_time=21:08) + FIND_TRAIN(train-day=Saturday) + FIND_TRAIN(train-departure=cambridge) + FIND_TRAIN(train-departure_time=after 20:00) + FIND_TRAIN(train-destination=stansted airport) + FIND_TRAIN(train-train_id=TR3128) → FIND_TRAIN(train-arrival_time=21:08) + FIND_TRAIN(train-day=Saturday) + FIND_TRAIN(train-departure=cambridge) + FIND_TRAIN(train-departure_time=after 20:00) + FIND_TRAIN(train-destination=stansted airport) + FIND_TRAIN(train-tickets=6) + FIND_TRAIN(train-train_id=TR3128) → FIND_TRAIN(train-arrival_time=21:08) + FIND_TRAIN(train-booking_status=confirmed) + FIND_TRAIN(train-day=Saturday) + FIND_TRAIN(train-departure=cambridge) + FIND_TRAIN(train-departure_time=after 20:00) + FIND_TRAIN(train-destination=stansted airport) + FIND_TRAIN(train-reference_number=JD6SA21J) + FIND_TRAIN(train-tickets=6) + FIND_TRAIN(train-total_cost=48.48 GBP) + FIND_TRAIN(train-train_id=TR3128) → FIND_RESTAURANT(restaurant-name=The Riverside Brasserie) + FIND_TRAIN(train-arrival_time=21:08) + FIND_TRAIN(train-booking_status=confirmed) + FIND_TRAIN(train-day=Saturday) + FIND_TRAIN(train-departure=cambridge) + FIND_TRAIN(train-departure_time=after 20:00) + FIND_TRAIN(train-destination=stansted airport) + FIND_TRAIN(train-reference_number=JD6SA21J) + FIND_TRAIN(train-tickets=6) + FIND_TRAIN(train-total_cost=48.48 GBP) + FIND_TRAIN(train-train_id=TR3128) → FIND_RESTAURANT(restaurant-address=Doubletree by Hilton Cambridge Granta Place Mill Lane) + FIND_RESTAURANT(restaurant-location=centre) + FIND_RESTAURANT(restaurant-name=The Riverside Brasserie) + FIND_RESTAURANT(restaurant-postcode=cb21rt) + FIND_RESTAURANT(restaurant-type=modern european) + FIND_TRAIN(train-arrival_time=21:08) + FIND_TRAIN(train-booking_status=confirmed) + FIND_TRAIN(train-day=Saturday) + FIND_TRAIN(train-departure=cambridge) + FIND_TRAIN(train-departure_time=after 20:00) + FIND_TRAIN(train-destination=stansted airport) + FIND_TRAIN(train-reference_number=JD6SA21J) + FIND_TRAIN(train-tickets=6) + FIND_TRAIN(train-total_cost=48.48 GBP) + FIND_TRAIN(train-train_id=TR3128) → FIND_RESTAURANT(restaurant-address=Doubletree by Hilton Cambridge Granta Place Mill Lane) + FIND_RESTAURANT(restaurant-booking_request=yes) + FIND_RESTAURANT(restaurant-location=centre) + FIND_RESTAURANT(restaurant-name=The Riverside Brasserie) + FIND_RESTAURANT(restaurant-postcode=cb21rt) + FIND_RESTAURANT(restaurant-type=modern european) + FIND_TRAIN(train-arrival_time=21:08) + FIND_TRAIN(train-booking_status=confirmed) + FIND_TRAIN(train-day=Saturday) + FIND_TRAIN(train-departure=cambridge) + FIND_TRAIN(train-departure_time=after 20:00) + FIND_TRAIN(train-destination=stansted airport) + FIND_TRAIN(train-reference_number=JD6SA21J) + FIND_TRAIN(train-tickets=6) + FIND_TRAIN(train-total_cost=48.48 GBP) + FIND_TRAIN(train-train_id=TR3128) → FIND_RESTAURANT(restaurant-address=Doubletree by Hilton Cambridge Granta Place Mill Lane) + FIND_RESTAURANT(restaurant-booking_request=yes) + FIND_RESTAURANT(restaurant-booking_status=failed) + FIND_RESTAURANT(restaurant-location=centre) + FIND_RESTAURANT(restaurant-name=The Riverside Brasserie) + FIND_RESTAURANT(restaurant-postcode=cb21rt) + FIND_RESTAURANT(restaurant-type=modern european) + FIND_TRAIN(train-arrival_time=21:08) + FIND_TRAIN(train-booking_status=confirmed) + FIND_TRAIN(train-day=Saturday) + FIND_TRAIN(train-departure=cambridge) + FIND_TRAIN(train-departure_time=after 20:00) + FIND_TRAIN(train-destination=stansted airport) + FIND_TRAIN(train-reference_number=JD6SA21J) + FIND_TRAIN(train-tickets=6) + FIND_TRAIN(train-total_cost=48.48 GBP) + FIND_TRAIN(train-train_id=TR3128) → FIND_RESTAURANT(restaurant-address=Doubletree by Hilton Cambridge Granta Place Mill Lane) + FIND_RESTAURANT(restaurant-booking_request=Saturday at 13:00) + FIND_RESTAURANT(restaurant-location=centre) + FIND_RESTAURANT(restaurant-name=The Riverside Brasserie) + FIND_RESTAURANT(restaurant-postcode=cb21rt) + FIND_RESTAURANT(restaurant-type=modern european) + FIND_TRAIN(train-arrival_time=21:08) + FIND_TRAIN(train-booking_status=confirmed) + FIND_TRAIN(train-day=Saturday) + FIND_TRAIN(train-departure=cambridge) + FIND_TRAIN(train-departure_time=after 20:00) + FIND_TRAIN(train-destination=stansted airport) + FIND_TRAIN(train-reference_number=JD6SA21J) + FIND_TRAIN(train-tickets=6) + FIND_TRAIN(train-total_cost=48.48 GBP) + FIND_TRAIN(train-train_id=TR3128) → FIND_RESTAURANT(restaurant-address=Doubletree by Hilton Cambridge Granta Place Mill Lane) + FIND_RESTAURANT(restaurant-booking_request=Saturday at 13:00) + FIND_RESTAURANT(restaurant-location=centre) + FIND_RESTAURANT(restaurant-name=The Riverside Brasserie) + FIND_RESTAURANT(restaurant-number_of_people=6) + FIND_RESTAURANT(restaurant-postcode=cb21rt) + FIND_RESTAURANT(restaurant-type=modern european) + FIND_TRAIN(train-arrival_time=21:08) + FIND_TRAIN(train-booking_status=confirmed) + FIND_TRAIN(train-day=Saturday) + FIND_TRAIN(train-departure=cambridge) + FIND_TRAIN(train-departure_time=after 20:00) + FIND_TRAIN(train-destination=stansted airport) + FIND_TRAIN(train-reference_number=JD6SA21J) + FIND_TRAIN(train-tickets=6) + FIND_TRAIN(train-total_cost=48.48 GBP) + FIND_TRAIN(train-train_id=TR3128) → FIND_RESTAURANT(restaurant-address=Doubletree by Hilton Cambridge Granta Place Mill Lane) + FIND_RESTAURANT(restaurant-booking_request=Saturday at 13:00) + FIND_RESTAURANT(restaurant-booking_status=confirmed) + FIND_RESTAURANT(restaurant-location=centre) + FIND_RESTAURANT(restaurant-name=The Riverside Brasserie) + FIND_RESTAURANT(restaurant-number_of_people=6) + FIND_RESTAURANT(restaurant-postcode=cb21rt) + FIND_RESTAURANT(restaurant-reference_number=3VX3AOKS) + FIND_RESTAURANT(restaurant-type=modern european) + FIND_TRAIN(train-arrival_time=21:08) + FIND_TRAIN(train-booking_status=confirmed) + FIND_TRAIN(train-day=Saturday) + FIND_TRAIN(train-departure=cambridge) + FIND_TRAIN(train-departure_time=after 20:00) + FIND_TRAIN(train-destination=stansted airport) + FIND_TRAIN(train-reference_number=JD6SA21J) + FIND_TRAIN(train-tickets=6) + FIND_TRAIN(train-total_cost=48.48 GBP) + FIND_TRAIN(train-train_id=TR3128) → NONE(restaurant-address=Doubletree by Hilton Cambridge Granta Place Mill Lane) + NONE(restaurant-booking_request=Saturday at 13:00) + NONE(restaurant-booking_status=confirmed) + NONE(restaurant-location=centre) + NONE(restaurant-name=The Riverside Brasserie) + NONE(restaurant-number_of_people=6) + NONE(restaurant-postcode=cb21rt) + NONE(restaurant-reference_number=3VX3AOKS) + NONE(restaurant-type=modern european) + NONE(train-arrival_time=21:08) + NONE(train-booking_status=confirmed) + NONE(train-day=Saturday) + NONE(train-departure=cambridge) + NONE(train-departure_time=after 20:00) + NONE(train-destination=stansted airport) + NONE(train-reference_number=JD6SA21J) + NONE(train-tickets=6) + NONE(train-total_cost=48.48 GBP) + NONE(train-train_id=TR3128) → FIND_RESTAURANT(restaurant-address=Doubletree by Hilton Cambridge Granta Place Mill Lane) + FIND_RESTAURANT(restaurant-booking_request=Saturday at 13:00) + FIND_RESTAURANT(restaurant-booking_status=confirmed) + FIND_RESTAURANT(restaurant-location=centre) + FIND_RESTAURANT(restaurant-name=The Riverside Brasserie) + FIND_RESTAURANT(restaurant-number_of_people=6) + FIND_RESTAURANT(restaurant-postcode=cb21rt) + FIND_RESTAURANT(restaurant-reference_number=3VX3AOKS) + FIND_RESTAURANT(restaurant-type=modern european) + FIND_TRAIN(train-arrival_time=21:08) + FIND_TRAIN(train-booking_status=confirmed) + FIND_TRAIN(train-day=Saturday) + FIND_TRAIN(train-departure=cambridge) + FIND_TRAIN(train-departure_time=after 20:00) + FIND_TRAIN(train-destination=stansted airport) + FIND_TRAIN(train-reference_number=JD6SA21J) + FIND_TRAIN(train-tickets=6) + FIND_TRAIN(train-total_cost=48.48 GBP) + FIND_TRAIN(train-train_id=TR3128) → NONE(restaurant-address=Doubletree by Hilton Cambridge Granta Place Mill Lane) + NONE(restaurant-booking_request=Saturday at 13:00) + NONE(restaurant-booking_status=confirmed) + NONE(restaurant-location=centre) + NONE(restaurant-name=The Riverside Brasserie) + NONE(restaurant-number_of_people=6) + NONE(restaurant-postcode=cb21rt) + NONE(restaurant-reference_number=3VX3AOKS) + NONE(restaurant-type=modern european) + NONE(train-arrival_time=21:08) + NONE(train-booking_status=confirmed) + NONE(train-day=Saturday) + NONE(train-departure=cambridge) + NONE(train-departure_time=after 20:00) + NONE(train-destination=stansted airport) + NONE(train-reference_number=JD6SA21J) + NONE(train-tickets=6) + NONE(train-total_cost=48.48 GBP) + NONE(train-train_id=TR3128)\n",
      "\n",
      "Dialogue 8:\n",
      "FIND_RESTAURANT(restaurant-area=centre) + FIND_RESTAURANT(restaurant-price=expensive) → FIND_RESTAURANT(restaurant-address=108 Regent Street City Centre) + FIND_RESTAURANT(restaurant-area=centre) + FIND_RESTAURANT(restaurant-food=Korean) + FIND_RESTAURANT(restaurant-name=Little Seoul) + FIND_RESTAURANT(restaurant-price=expensive) → FIND_RESTAURANT(restaurant-address=108 Regent Street City Centre) + FIND_RESTAURANT(restaurant-area=centre) + FIND_RESTAURANT(restaurant-food=Korean) + FIND_RESTAURANT(restaurant-name=Little Seoul) + FIND_RESTAURANT(restaurant-phone=01223308681) + FIND_RESTAURANT(restaurant-postcode=cb21dp) + FIND_RESTAURANT(restaurant-price=expensive) → FIND_RESTAURANT(restaurant-address=108 Regent Street, City Centre) + FIND_RESTAURANT(restaurant-area=centre) + FIND_RESTAURANT(restaurant-food=Korean) + FIND_RESTAURANT(restaurant-name=Little Seoul) + FIND_RESTAURANT(restaurant-phone=01223308681) + FIND_RESTAURANT(restaurant-postcode=cb21dp) + FIND_RESTAURANT(restaurant-price=expensive) → FIND_RESTAURANT(restaurant-address=108 Regent Street, City Centre) + FIND_RESTAURANT(restaurant-area=centre) + FIND_RESTAURANT(restaurant-food=Korean) + FIND_RESTAURANT(restaurant-name=Little Seoul) + FIND_RESTAURANT(restaurant-phone=01223308681) + FIND_RESTAURANT(restaurant-postcode=cb21dp) + FIND_RESTAURANT(restaurant-price=expensive) + FIND_TRAIN(train-day=Saturday) + FIND_TRAIN(train-departure=Kings Lynn) + FIND_TRAIN(train-destination=Cambridge) + FIND_TRAIN(train-leave_after=09:15) → FIND_RESTAURANT(restaurant-address=108 Regent Street, City Centre) + FIND_RESTAURANT(restaurant-area=centre) + FIND_RESTAURANT(restaurant-food=Korean) + FIND_RESTAURANT(restaurant-name=Little Seoul) + FIND_RESTAURANT(restaurant-phone=01223308681) + FIND_RESTAURANT(restaurant-postcode=cb21dp) + FIND_RESTAURANT(restaurant-price=expensive) + FIND_TRAIN(train-arrival_time=10:58) + FIND_TRAIN(train-day=Saturday) + FIND_TRAIN(train-departure=Kings Lynn) + FIND_TRAIN(train-departure_time=10:11) + FIND_TRAIN(train-destination=Cambridge) + FIND_TRAIN(train-leave_after=09:15) + FIND_TRAIN(train-train_id=TR2514) → FIND_RESTAURANT(restaurant-address=108 Regent Street, City Centre) + FIND_RESTAURANT(restaurant-area=centre) + FIND_RESTAURANT(restaurant-food=Korean) + FIND_RESTAURANT(restaurant-name=Little Seoul) + FIND_RESTAURANT(restaurant-phone=01223308681) + FIND_RESTAURANT(restaurant-postcode=cb21dp) + FIND_RESTAURANT(restaurant-price=expensive) + FIND_TRAIN(train-arrival_time=10:58) + FIND_TRAIN(train-day=Saturday) + FIND_TRAIN(train-departure=Kings Lynn) + FIND_TRAIN(train-departure_time=10:11) + FIND_TRAIN(train-destination=Cambridge) + FIND_TRAIN(train-leave_after=09:15) + FIND_TRAIN(train-train_id=TR2514) + FIND_TRAIN(train-travel_time=47 minutes) → NONE(restaurant-address=108 Regent Street, City Centre) + NONE(restaurant-area=centre) + NONE(restaurant-food=Korean) + NONE(restaurant-name=Little Seoul) + NONE(restaurant-phone=01223308681) + NONE(restaurant-postcode=cb21dp) + NONE(restaurant-price=expensive) + NONE(train-arrival_time=10:58) + NONE(train-day=Saturday) + NONE(train-departure=Kings Lynn) + NONE(train-departure_time=10:11) + NONE(train-destination=Cambridge) + NONE(train-leave_after=09:15) + NONE(train-train_id=TR2514) + NONE(train-travel_time=47 minutes)\n",
      "\n",
      "Dialogue 9:\n",
      "FIND_NIGHTCLUB(nightclub-address=22 sidney street) + FIND_NIGHTCLUB(nightclub-name=the place) + FIND_NIGHTCLUB(nightclub-phone_number=01223324600) → FIND_HOTEL(hotel-location=center) + FIND_HOTEL(hotel-name=Gonville) + FIND_NIGHTCLUB(nightclub-address=22 sidney street) + FIND_NIGHTCLUB(nightclub-name=the place) + FIND_NIGHTCLUB(nightclub-phone_number=01223324600) → FIND_HOTEL(hotel-internet=free) + FIND_HOTEL(hotel-name=Huntington Marriott) + FIND_HOTEL(hotel-parking=free) + FIND_HOTEL(hotel-price=expensive) + FIND_HOTEL(hotel-stars=4) + FIND_NIGHTCLUB(nightclub-address=22 sidney street) + FIND_NIGHTCLUB(nightclub-name=the place) + FIND_NIGHTCLUB(nightclub-phone_number=01223324600) → FIND_HOTEL(hotel-internet=free) + FIND_HOTEL(hotel-name=Huntington Marriott) + FIND_HOTEL(hotel-parking=free) + FIND_HOTEL(hotel-price=expensive) + FIND_HOTEL(hotel-stars=4) + FIND_NIGHTCLUB(nightclub-address=22 sidney street) + FIND_NIGHTCLUB(nightclub-name=the place) + FIND_NIGHTCLUB(nightclub-phone_number=01223324600) + FIND_TAXI(taxi-departure_time=17:45) → FIND_HOTEL(hotel-internet=free) + FIND_HOTEL(hotel-name=Huntington Marriott) + FIND_HOTEL(hotel-parking=free) + FIND_HOTEL(hotel-price=expensive) + FIND_HOTEL(hotel-stars=4) + FIND_NIGHTCLUB(nightclub-address=22 sidney street) + FIND_NIGHTCLUB(nightclub-name=the place) + FIND_NIGHTCLUB(nightclub-phone_number=01223324600) + FIND_TAXI(taxi-car_type=red lexus) + FIND_TAXI(taxi-contact_number=07421633218) + FIND_TAXI(taxi-departure_time=17:45) → NONE(hotel-internet=free) + NONE(hotel-name=Huntington Marriott) + NONE(hotel-parking=free) + NONE(hotel-price=expensive) + NONE(hotel-stars=4) + NONE(nightclub-address=22 sidney street) + NONE(nightclub-name=the place) + NONE(nightclub-phone_number=01223324600) + NONE(taxi-car_type=red lexus) + NONE(taxi-contact_number=07421633218) + NONE(taxi-departure_time=17:45)\n",
      "\n",
      "Dialogue 10:\n",
      "FIND_TRAIN(train-departure=cambridge) + FIND_TRAIN(train-destination=stansted airport) → NONE(train-arrival_time=15:15) + NONE(train-day=Saturday) + NONE(train-departure=cambridge) + NONE(train-destination=stansted airport) → NONE(train-arrival_time=06:08) + NONE(train-day=Saturday) + NONE(train-departure=cambridge) + NONE(train-departure_time=05:40) + NONE(train-destination=stansted airport) + NONE(train-price=10.10) + NONE(train-train_id=TR7213) → FIND_RESTAURANT(restaurant-area=south) + FIND_RESTAURANT(restaurant-price=cheap) + FIND_TRAIN(train-arrival_time=06:08) + FIND_TRAIN(train-day=Saturday) + FIND_TRAIN(train-departure=cambridge) + FIND_TRAIN(train-departure_time=05:40) + FIND_TRAIN(train-destination=stansted airport) + FIND_TRAIN(train-price=10.10) + FIND_TRAIN(train-train_id=TR7213) → NONE(restaurant-area=south) + NONE(restaurant-cuisine=Portuguese) + NONE(restaurant-name=Nandos) + NONE(restaurant-price=cheap) + NONE(train-arrival_time=06:08) + NONE(train-day=Saturday) + NONE(train-departure=cambridge) + NONE(train-departure_time=05:40) + NONE(train-destination=stansted airport) + NONE(train-price=10.10) + NONE(train-train_id=TR7213) → FIND_RESTAURANT(restaurant-area=south) + FIND_RESTAURANT(restaurant-cuisine=Chinese) + FIND_RESTAURANT(restaurant-name=The Lucky Star) + FIND_RESTAURANT(restaurant-price=cheap) + FIND_TRAIN(train-arrival_time=06:08) + FIND_TRAIN(train-day=Saturday) + FIND_TRAIN(train-departure=cambridge) + FIND_TRAIN(train-departure_time=05:40) + FIND_TRAIN(train-destination=stansted airport) + FIND_TRAIN(train-price=10.10) + FIND_TRAIN(train-train_id=TR7213) → FIND_RESTAURANT(restaurant-area=south) + FIND_RESTAURANT(restaurant-cuisine=Chinese) + FIND_RESTAURANT(restaurant-name=The Lucky Star) + FIND_RESTAURANT(restaurant-postcode=cb17dy) + FIND_RESTAURANT(restaurant-price=cheap) + FIND_TRAIN(train-arrival_time=06:08) + FIND_TRAIN(train-day=Saturday) + FIND_TRAIN(train-departure=cambridge) + FIND_TRAIN(train-departure_time=05:40) + FIND_TRAIN(train-destination=stansted airport) + FIND_TRAIN(train-price=10.10) + FIND_TRAIN(train-train_id=TR7213) → NONE(restaurant-area=south) + NONE(restaurant-cuisine=Chinese) + NONE(restaurant-name=The Lucky Star) + NONE(restaurant-postcode=cb17dy) + NONE(restaurant-price=cheap) + NONE(train-arrival_time=06:08) + NONE(train-day=Saturday) + NONE(train-departure=cambridge) + NONE(train-departure_time=05:40) + NONE(train-destination=stansted airport) + NONE(train-price=10.10) + NONE(train-train_id=TR7213)\n",
      "\n",
      "Total sequences extracted: 10\n"
     ]
    }
   ],
   "source": [
    "import json\n",
    "\n",
    "# Load data\n",
    "filepath = \"results_prompt4.json\"\n",
    "with open(filepath) as f:\n",
    "    data = json.load(f)\n",
    "\n",
    "def extract_state_action_sequences(data):\n",
    "    all_sequences = []\n",
    "    \n",
    "    # Process each dialogue\n",
    "    for dialogue_id, dialogue in data.items():\n",
    "        dialogue_sequence = []\n",
    "        current_state = {}\n",
    "        \n",
    "        # Get all turns sorted by index\n",
    "        turns = []\n",
    "        for key in dialogue:\n",
    "            if key.startswith('turn_'):\n",
    "                turn_idx = int(key.split('_')[1])\n",
    "                turns.append((turn_idx, dialogue[key]))\n",
    "        turns.sort()\n",
    "        \n",
    "        for turn_idx, turn in turns:\n",
    "            transitions = turn.get('transitions', {})\n",
    "            action = transitions.get('action', 'NONE')\n",
    "            state_2 = transitions.get('state_2', [])\n",
    "            \n",
    "            # Extract all slots from all domains\n",
    "            turn_state = {}\n",
    "            for domain_data in state_2:\n",
    "                domain = domain_data.get('domain')\n",
    "                if domain and domain != 'context':  # Skip context domain\n",
    "                    for slot_name, slot_value in domain_data.get('slots', []):\n",
    "                        key = f\"{domain}-{slot_name}\"\n",
    "                        turn_state[key] = slot_value\n",
    "            \n",
    "            # Format based on action and state\n",
    "            if turn_state:\n",
    "                formatted_parts = []\n",
    "                for slot_key, slot_value in sorted(turn_state.items()):\n",
    "                    domain = slot_key.split('-')[0]\n",
    "                    action_prefix = f\"FIND_{domain.upper()}\" if action in ['Request', 'Inform'] else \"NONE\"\n",
    "                    formatted_parts.append(f\"{action_prefix}({slot_key}={slot_value})\")\n",
    "                \n",
    "                state_str = \" + \".join(formatted_parts)\n",
    "                if state_str and (not dialogue_sequence or dialogue_sequence[-1] != state_str):\n",
    "                    dialogue_sequence.append(state_str)\n",
    "        \n",
    "        if dialogue_sequence:\n",
    "            all_sequences.append(\" → \".join(dialogue_sequence))\n",
    "    \n",
    "    return all_sequences\n",
    "\n",
    "# Extract all sequences\n",
    "sequences = extract_state_action_sequences(data)\n",
    "\n",
    "# Print results\n",
    "for i, sequence in enumerate(sequences):\n",
    "    if sequence:\n",
    "        print(f\"Dialogue {i+1}:\")\n",
    "        print(sequence)\n",
    "        print()\n",
    "\n",
    "print(f\"Total sequences extracted: {len([s for s in sequences if s])}\")"
   ]
  },
  {
   "cell_type": "code",
   "execution_count": null,
   "metadata": {},
   "outputs": [],
   "source": [
    "#embedding"
   ]
  },
  {
   "cell_type": "code",
   "execution_count": null,
   "metadata": {},
   "outputs": [],
   "source": [
    "#similarity calculation"
   ]
  },
  {
   "cell_type": "code",
   "execution_count": null,
   "metadata": {},
   "outputs": [],
   "source": [
    "#t-SNE"
   ]
  },
  {
   "cell_type": "code",
   "execution_count": null,
   "metadata": {},
   "outputs": [],
   "source": [
    "#visualize"
   ]
  }
 ],
 "metadata": {
  "kernelspec": {
   "display_name": ".venv",
   "language": "python",
   "name": "python3"
  },
  "language_info": {
   "codemirror_mode": {
    "name": "ipython",
    "version": 3
   },
   "file_extension": ".py",
   "mimetype": "text/x-python",
   "name": "python",
   "nbconvert_exporter": "python",
   "pygments_lexer": "ipython3",
   "version": "3.13.1"
  }
 },
 "nbformat": 4,
 "nbformat_minor": 2
}
