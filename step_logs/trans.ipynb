{
 "cells": [
  {
   "cell_type": "code",
   "execution_count": 2,
   "metadata": {},
   "outputs": [
    {
     "name": "stdout",
     "output_type": "stream",
     "text": [
      "✅ Saved to human_env.csv (61440 episodes)\n",
      "✅ Saved to llm_env.csv (61440 episodes)\n"
     ]
    }
   ],
   "source": [
    "import json\n",
    "import pandas as pd\n",
    "\n",
    "def convert_jsonl_to_csv(jsonl_path, csv_out_path):\n",
    "    episodes = []\n",
    "    rewards = []\n",
    "    \n",
    "    with open(jsonl_path, 'r') as f:\n",
    "        for i, line in enumerate(f):\n",
    "            record = json.loads(line.strip())\n",
    "            reward = record.get(\"reward\", None)\n",
    "            if reward is not None:\n",
    "                episodes.append(i)\n",
    "                rewards.append(reward)\n",
    "\n",
    "    df = pd.DataFrame({\"episode\": episodes, \"reward\": rewards})\n",
    "    df.to_csv(csv_out_path, index=False)\n",
    "    print(f\"✅ Saved to {csv_out_path} ({len(df)} episodes)\")\n",
    "\n",
    "# 사용 예시\n",
    "convert_jsonl_to_csv(\"human_normal_transitions.jsonl\", \"human_env.csv\")\n",
    "convert_jsonl_to_csv(\"llm_normal_transitions.jsonl\", \"llm_env.csv\")\n"
   ]
  }
 ],
 "metadata": {
  "kernelspec": {
   "display_name": ".venv",
   "language": "python",
   "name": "python3"
  },
  "language_info": {
   "codemirror_mode": {
    "name": "ipython",
    "version": 3
   },
   "file_extension": ".py",
   "mimetype": "text/x-python",
   "name": "python",
   "nbconvert_exporter": "python",
   "pygments_lexer": "ipython3",
   "version": "3.13.1"
  }
 },
 "nbformat": 4,
 "nbformat_minor": 2
}
